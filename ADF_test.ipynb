{
 "cells": [
  {
   "cell_type": "code",
   "execution_count": 13,
   "metadata": {},
   "outputs": [
    {
     "name": "stdout",
     "output_type": "stream",
     "text": [
      "                     close_DE40  close_FR40  close_NL25  close_IT40  \\\n",
      "datetime                                                              \n",
      "2024-06-11 09:00:00     18502.9      7916.6      926.37     34490.5   \n",
      "2024-06-11 10:00:00     18475.4      7905.1      924.99     34404.5   \n",
      "2024-06-11 11:00:00     18367.9      7824.6      921.04     34156.5   \n",
      "2024-06-11 12:00:00     18391.9      7824.9      921.99     34149.5   \n",
      "2024-06-11 13:00:00     18340.9      7798.1      920.62     33976.5   \n",
      "\n",
      "                     close_SP35  close_UK100  close_EU50  \n",
      "datetime                                                  \n",
      "2024-06-11 09:00:00     11295.2       8233.6      5024.3  \n",
      "2024-06-11 10:00:00     11289.5       8212.9      5016.3  \n",
      "2024-06-11 11:00:00     11230.0       8167.6      4974.3  \n",
      "2024-06-11 12:00:00     11217.5       8171.4      4976.3  \n",
      "2024-06-11 13:00:00     11163.0       8156.2      4961.6  \n"
     ]
    }
   ],
   "source": [
    "import pandas as pd\n",
    "# Load the data\n",
    "dataframe1 = pd.read_csv('daily_data.csv')\n",
    "# Ensure the 'datetime' column is in the correct format\n",
    "dataframe1['datetime'] = pd.to_datetime(dataframe1['datetime'])\n",
    "\n",
    "# Set the 'datetime' column as the index\n",
    "dataframe1.set_index('datetime', inplace=True)\n",
    "if 'Unnamed: 0' in dataframe1.columns:\n",
    "    dataframe1 = dataframe1.drop(columns=['Unnamed: 0'])\n",
    "\n",
    "# Display the first few rows to verify\n",
    "print(dataframe1.head())"
   ]
  },
  {
   "cell_type": "markdown",
   "metadata": {},
   "source": [
    "ADF test Stock raw data"
   ]
  },
  {
   "cell_type": "code",
   "execution_count": 9,
   "metadata": {},
   "outputs": [
    {
     "name": "stdout",
     "output_type": "stream",
     "text": [
      "            ADF Statistic   p-value Stationary\n",
      "close_DE40      -1.240832  0.655789      False\n",
      "close_FR40      -2.537298  0.106661      False\n",
      "close_NL25      -1.800539  0.380194      False\n",
      "close_IT40      -1.611513  0.477181      False\n",
      "close_SP35      -1.321118  0.619456      False\n",
      "close_UK100     -2.580275  0.097143      False\n",
      "close_EU50      -1.798635   0.38114      False\n"
     ]
    }
   ],
   "source": [
    "import pandas as pd\n",
    "from statsmodels.tsa.stattools import adfuller\n",
    "\n",
    "# Function to apply ADF test and store results in a dictionary\n",
    "def adf_test(series):\n",
    "    result = adfuller(series, autolag='AIC')\n",
    "    return {\n",
    "        'ADF Statistic': result[0],\n",
    "        'p-value': result[1],\n",
    "        'Stationary': result[1] < 0.05  # True if p-value < 0.05 (stationary)\n",
    "    }\n",
    "\n",
    "# Create a DataFrame to store the results\n",
    "adf_results = pd.DataFrame()\n",
    "\n",
    "# Apply ADF test to each stock column and store results in the DataFrame\n",
    "for column in dataframe1.columns:\n",
    "    adf_results[column] = pd.Series(adf_test(dataframe1[column]))\n",
    "\n",
    "# Transpose the DataFrame for better readability\n",
    "adf_results = adf_results.T\n",
    "\n",
    "# Display the ADF test results as a table\n",
    "print(adf_results)"
   ]
  },
  {
   "cell_type": "code",
   "execution_count": 10,
   "metadata": {},
   "outputs": [
    {
     "data": {
      "text/html": [
       "<div>\n",
       "<style scoped>\n",
       "    .dataframe tbody tr th:only-of-type {\n",
       "        vertical-align: middle;\n",
       "    }\n",
       "\n",
       "    .dataframe tbody tr th {\n",
       "        vertical-align: top;\n",
       "    }\n",
       "\n",
       "    .dataframe thead th {\n",
       "        text-align: right;\n",
       "    }\n",
       "</style>\n",
       "<table border=\"1\" class=\"dataframe\">\n",
       "  <thead>\n",
       "    <tr style=\"text-align: right;\">\n",
       "      <th></th>\n",
       "      <th>DE40</th>\n",
       "      <th>FR40</th>\n",
       "      <th>NL25</th>\n",
       "      <th>IT40</th>\n",
       "      <th>SP35</th>\n",
       "      <th>UK100</th>\n",
       "      <th>EU50</th>\n",
       "    </tr>\n",
       "    <tr>\n",
       "      <th>datetime</th>\n",
       "      <th></th>\n",
       "      <th></th>\n",
       "      <th></th>\n",
       "      <th></th>\n",
       "      <th></th>\n",
       "      <th></th>\n",
       "      <th></th>\n",
       "    </tr>\n",
       "  </thead>\n",
       "  <tbody>\n",
       "    <tr>\n",
       "      <th>2024-06-11 10:00:00</th>\n",
       "      <td>-0.148736</td>\n",
       "      <td>-0.145370</td>\n",
       "      <td>-0.149080</td>\n",
       "      <td>-0.249655</td>\n",
       "      <td>-0.050477</td>\n",
       "      <td>-0.251725</td>\n",
       "      <td>-0.159353</td>\n",
       "    </tr>\n",
       "    <tr>\n",
       "      <th>2024-06-11 11:00:00</th>\n",
       "      <td>-0.583554</td>\n",
       "      <td>-1.023550</td>\n",
       "      <td>-0.427946</td>\n",
       "      <td>-0.723447</td>\n",
       "      <td>-0.528432</td>\n",
       "      <td>-0.553098</td>\n",
       "      <td>-0.840795</td>\n",
       "    </tr>\n",
       "    <tr>\n",
       "      <th>2024-06-11 12:00:00</th>\n",
       "      <td>0.130577</td>\n",
       "      <td>0.003834</td>\n",
       "      <td>0.103091</td>\n",
       "      <td>-0.020496</td>\n",
       "      <td>-0.111371</td>\n",
       "      <td>0.046514</td>\n",
       "      <td>0.040199</td>\n",
       "    </tr>\n",
       "    <tr>\n",
       "      <th>2024-06-11 13:00:00</th>\n",
       "      <td>-0.277681</td>\n",
       "      <td>-0.343084</td>\n",
       "      <td>-0.148702</td>\n",
       "      <td>-0.507884</td>\n",
       "      <td>-0.487032</td>\n",
       "      <td>-0.186188</td>\n",
       "      <td>-0.295837</td>\n",
       "    </tr>\n",
       "    <tr>\n",
       "      <th>2024-06-11 14:00:00</th>\n",
       "      <td>0.057233</td>\n",
       "      <td>-0.025651</td>\n",
       "      <td>-0.014122</td>\n",
       "      <td>-0.176749</td>\n",
       "      <td>-0.098588</td>\n",
       "      <td>-0.196362</td>\n",
       "      <td>0.030228</td>\n",
       "    </tr>\n",
       "  </tbody>\n",
       "</table>\n",
       "</div>"
      ],
      "text/plain": [
       "                         DE40      FR40      NL25      IT40      SP35  \\\n",
       "datetime                                                                \n",
       "2024-06-11 10:00:00 -0.148736 -0.145370 -0.149080 -0.249655 -0.050477   \n",
       "2024-06-11 11:00:00 -0.583554 -1.023550 -0.427946 -0.723447 -0.528432   \n",
       "2024-06-11 12:00:00  0.130577  0.003834  0.103091 -0.020496 -0.111371   \n",
       "2024-06-11 13:00:00 -0.277681 -0.343084 -0.148702 -0.507884 -0.487032   \n",
       "2024-06-11 14:00:00  0.057233 -0.025651 -0.014122 -0.176749 -0.098588   \n",
       "\n",
       "                        UK100      EU50  \n",
       "datetime                                 \n",
       "2024-06-11 10:00:00 -0.251725 -0.159353  \n",
       "2024-06-11 11:00:00 -0.553098 -0.840795  \n",
       "2024-06-11 12:00:00  0.046514  0.040199  \n",
       "2024-06-11 13:00:00 -0.186188 -0.295837  \n",
       "2024-06-11 14:00:00 -0.196362  0.030228  "
      ]
     },
     "execution_count": 10,
     "metadata": {},
     "output_type": "execute_result"
    }
   ],
   "source": [
    "# Load the data\n",
    "dataframe = pd.read_csv('modified_log_ret.csv')\n",
    "# Ensure the 'datetime' column is in the correct format\n",
    "dataframe['datetime'] = pd.to_datetime(dataframe['datetime'])\n",
    "\n",
    "# Set the 'datetime' column as the index\n",
    "dataframe.set_index('datetime', inplace=True)\n",
    "dataframe.head()"
   ]
  },
  {
   "cell_type": "markdown",
   "metadata": {},
   "source": [
    "ADF test on Log return data"
   ]
  },
  {
   "cell_type": "code",
   "execution_count": 11,
   "metadata": {},
   "outputs": [
    {
     "name": "stdout",
     "output_type": "stream",
     "text": [
      "      ADF Statistic p-value Stationary\n",
      "DE40      -23.35932     0.0       True\n",
      "FR40     -22.679984     0.0       True\n",
      "NL25     -25.159842     0.0       True\n",
      "IT40     -24.384536     0.0       True\n",
      "SP35     -23.358835     0.0       True\n",
      "UK100    -11.753854     0.0       True\n",
      "EU50     -24.186402     0.0       True\n"
     ]
    }
   ],
   "source": [
    "import pandas as pd\n",
    "from statsmodels.tsa.stattools import adfuller\n",
    "\n",
    "# Function to apply ADF test and store results in a dictionary\n",
    "def adf_test(series):\n",
    "    result = adfuller(series, autolag='AIC')\n",
    "    return {\n",
    "        'ADF Statistic': result[0],\n",
    "        'p-value': result[1],\n",
    "        'Stationary': result[1] < 0.05  # True if p-value < 0.05 (stationary)\n",
    "    }\n",
    "\n",
    "# Create a DataFrame to store the results\n",
    "adf_results = pd.DataFrame()\n",
    "\n",
    "# Apply ADF test to each stock column and store results in the DataFrame\n",
    "for column in dataframe.columns:\n",
    "    adf_results[column] = pd.Series(adf_test(dataframe[column]))\n",
    "\n",
    "# Transpose the DataFrame for better readability\n",
    "adf_results_log = adf_results.T\n",
    "\n",
    "# Display the ADF test results as a table\n",
    "print(adf_results_log)\n"
   ]
  }
 ],
 "metadata": {
  "kernelspec": {
   "display_name": "za",
   "language": "python",
   "name": "python3"
  },
  "language_info": {
   "codemirror_mode": {
    "name": "ipython",
    "version": 3
   },
   "file_extension": ".py",
   "mimetype": "text/x-python",
   "name": "python",
   "nbconvert_exporter": "python",
   "pygments_lexer": "ipython3",
   "version": "3.9.19"
  }
 },
 "nbformat": 4,
 "nbformat_minor": 2
}
